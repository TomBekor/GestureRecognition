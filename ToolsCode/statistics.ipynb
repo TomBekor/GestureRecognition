{
 "cells": [
  {
   "cell_type": "code",
   "execution_count": 2,
   "metadata": {},
   "outputs": [],
   "source": [
    "import os\n",
    "import glob\n",
    "import numpy as np\n",
    "import pandas as pd\n",
    "\n",
    "import matplotlib.pyplot as plt\n",
    "import seaborn as sns\n",
    "\n",
    "from datetime import datetime"
   ]
  },
  {
   "cell_type": "code",
   "execution_count": 3,
   "metadata": {},
   "outputs": [],
   "source": [
    "args = {\n",
    "    'dataset': 'APAS',\n",
    "}"
   ]
  },
  {
   "cell_type": "code",
   "execution_count": 4,
   "metadata": {},
   "outputs": [],
   "source": [
    "folds_folder = \"/datashare/\"+args['dataset']+\"/folds\"\n",
    "features_path = \"/datashare/\"+args['dataset']+\"/kinematics_npy/\"\n",
    "videos_path = \"/home/student/Project/npy_frames/\"\n",
    "\n",
    "gt_path_gestures = \"/datashare/\"+args['dataset']+\"/transcriptions_gestures/\"\n",
    "gt_path_tools_left = \"/datashare/\"+args['dataset']+\"/transcriptions_tools_left_new/\"\n",
    "gt_path_tools_right = \"/datashare/\"+args['dataset']+\"/transcriptions_tools_right_new/\"\n",
    "\n",
    "mapping_gestures_file = \"/datashare/\"+args['dataset']+\"/mapping_gestures.txt\"\n",
    "mapping_tool_file = \"/datashare/\"+args['dataset']+\"/mapping_tools.txt\""
   ]
  },
  {
   "cell_type": "code",
   "execution_count": 5,
   "metadata": {},
   "outputs": [],
   "source": [
    "def pars_ground_truth(gt_source):\n",
    "        contant =[]\n",
    "        for line in gt_source:\n",
    "            info = line.split()\n",
    "            line_contant = [info[2]] * (int(info[1])-int(info[0]) +1)\n",
    "            contant = contant + line_contant\n",
    "        return contant"
   ]
  },
  {
   "cell_type": "code",
   "execution_count": 6,
   "metadata": {},
   "outputs": [],
   "source": [
    "gt_path_tools = {\n",
    "    'left': gt_path_tools_left,\n",
    "    'right': gt_path_tools_right\n",
    "}\n",
    "\n",
    "tools_files = {}\n",
    "for hand in gt_path_tools:\n",
    "    tools_files[hand] = [file_path for file_path in glob.glob(gt_path_tools[hand] + '*')]\n",
    "\n",
    "tools_list = {}\n",
    "for hand in tools_files:\n",
    "    hand_tools_list = []\n",
    "    for file_path in tools_files[hand]:\n",
    "        with open(file_path, 'r') as file_ptr:\n",
    "            lines = file_ptr.readlines()\n",
    "            tools = pars_ground_truth(lines)\n",
    "            hand_tools_list.append((tools, file_path))\n",
    "    tools_list[hand] = hand_tools_list"
   ]
  },
  {
   "cell_type": "markdown",
   "metadata": {},
   "source": [
    "### Check that all seq length are equal:"
   ]
  },
  {
   "cell_type": "code",
   "execution_count": 7,
   "metadata": {},
   "outputs": [
    {
     "data": {
      "text/plain": [
       "True"
      ]
     },
     "execution_count": 7,
     "metadata": {},
     "output_type": "execute_result"
    }
   ],
   "source": [
    "len(tools_list['left']) == len(tools_list['right'])"
   ]
  },
  {
   "cell_type": "code",
   "execution_count": 8,
   "metadata": {},
   "outputs": [
    {
     "name": "stdout",
     "output_type": "stream",
     "text": [
      "index: 93\n",
      "/datashare/APAS/transcriptions_tools_left_new/P039_balloon2.txt - 3669\n",
      "/datashare/APAS/transcriptions_tools_right_new/P039_balloon2.txt - 3801\n",
      "\n",
      "count: 1\n",
      "flag: False\n",
      "\n",
      "/datashare/APAS/transcriptions_tools_left_new/P039_balloon2.txt removed.\n",
      "/datashare/APAS/transcriptions_tools_right_new/P039_balloon2.txt removed.\n"
     ]
    }
   ],
   "source": [
    "bad_vids = []\n",
    "flag = True\n",
    "count = 0\n",
    "for i, (t_left, t_right) in enumerate(zip(tools_list['left'], tools_list['right'])):\n",
    "    if not len(t_left[0]) == len(t_right[0]):\n",
    "        print(f'index: {i}')\n",
    "        print(f'{t_left[1]} - {len(t_left[0])}')\n",
    "        print(f'{t_right[1]} - {len(t_right[0])}')\n",
    "        print()\n",
    "        bad_vids.append(i)\n",
    "        count += 1\n",
    "        flag = False\n",
    "        # break\n",
    "print(f'count: {count}')\n",
    "print(f'flag: {flag}')\n",
    "\n",
    "print()\n",
    "for bad_index in bad_vids:\n",
    "    bad_vid_left = tools_list['left'].pop(bad_index)\n",
    "    bad_vid_right = tools_list['right'].pop(bad_index)\n",
    "    print(f'{bad_vid_left[1]} removed.')\n",
    "    print(f'{bad_vid_right[1]} removed.')"
   ]
  },
  {
   "cell_type": "code",
   "execution_count": 9,
   "metadata": {},
   "outputs": [
    {
     "name": "stdout",
     "output_type": "stream",
     "text": [
      "max_seq: 14897\n"
     ]
    }
   ],
   "source": [
    "max_seq = max(list(map(lambda x: len(x[0]), tools_list['left'])))\n",
    "print(f'max_seq: {max_seq}')"
   ]
  },
  {
   "cell_type": "code",
   "execution_count": 10,
   "metadata": {},
   "outputs": [
    {
     "name": "stdout",
     "output_type": "stream",
     "text": [
      "/datashare/APAS/transcriptions_tools_left_new/P016_balloon1.txt - 4451\n",
      "/datashare/APAS/transcriptions_tools_left_new/P016_balloon2.txt - 3911\n",
      "/datashare/APAS/transcriptions_tools_left_new/P016_tissue1.txt - 6752\n",
      "/datashare/APAS/transcriptions_tools_left_new/P016_tissue2.txt - 5671\n",
      "/datashare/APAS/transcriptions_tools_left_new/P017_balloon1.txt - 3952\n",
      "/datashare/APAS/transcriptions_tools_left_new/P017_balloon2.txt - 3336\n",
      "/datashare/APAS/transcriptions_tools_left_new/P017_tissue1.txt - 4593\n",
      "/datashare/APAS/transcriptions_tools_left_new/P017_tissue2.txt - 4530\n",
      "/datashare/APAS/transcriptions_tools_left_new/P018_balloon1.txt - 3956\n",
      "/datashare/APAS/transcriptions_tools_left_new/P018_balloon2.txt - 3680\n",
      "/datashare/APAS/transcriptions_tools_left_new/P018_tissue1.txt - 5477\n",
      "/datashare/APAS/transcriptions_tools_left_new/P018_tissue2.txt - 3892\n",
      "/datashare/APAS/transcriptions_tools_left_new/P019_balloon1.txt - 4427\n",
      "/datashare/APAS/transcriptions_tools_left_new/P019_balloon2.txt - 3722\n",
      "/datashare/APAS/transcriptions_tools_left_new/P019_tissue1.txt - 4590\n",
      "/datashare/APAS/transcriptions_tools_left_new/P019_tissue2.txt - 4929\n",
      "/datashare/APAS/transcriptions_tools_left_new/P020_balloon1.txt - 6982\n",
      "/datashare/APAS/transcriptions_tools_left_new/P020_balloon2.txt - 7502\n",
      "/datashare/APAS/transcriptions_tools_left_new/P020_tissue1.txt - 10027\n",
      "/datashare/APAS/transcriptions_tools_left_new/P020_tissue2.txt - 9771\n",
      "/datashare/APAS/transcriptions_tools_left_new/P021_balloon1.txt - 3744\n",
      "/datashare/APAS/transcriptions_tools_left_new/P021_balloon2.txt - 3764\n",
      "/datashare/APAS/transcriptions_tools_left_new/P021_tissue1.txt - 5691\n",
      "/datashare/APAS/transcriptions_tools_left_new/P021_tissue2.txt - 5111\n",
      "/datashare/APAS/transcriptions_tools_left_new/P022_balloon1.txt - 7601\n",
      "/datashare/APAS/transcriptions_tools_left_new/P022_balloon2.txt - 7704\n",
      "/datashare/APAS/transcriptions_tools_left_new/P022_tissue1.txt - 9941\n",
      "/datashare/APAS/transcriptions_tools_left_new/P022_tissue2.txt - 9914\n",
      "/datashare/APAS/transcriptions_tools_left_new/P023_balloon1.txt - 6167\n",
      "/datashare/APAS/transcriptions_tools_left_new/P023_balloon2.txt - 5791\n",
      "/datashare/APAS/transcriptions_tools_left_new/P023_tissue1.txt - 9684\n",
      "/datashare/APAS/transcriptions_tools_left_new/P023_tissue2.txt - 11731\n",
      "/datashare/APAS/transcriptions_tools_left_new/P024_balloon1.txt - 6762\n",
      "/datashare/APAS/transcriptions_tools_left_new/P024_balloon2.txt - 6691\n",
      "/datashare/APAS/transcriptions_tools_left_new/P024_tissue1.txt - 11072\n",
      "/datashare/APAS/transcriptions_tools_left_new/P024_tissue2.txt - 9372\n",
      "/datashare/APAS/transcriptions_tools_left_new/P025_balloon1.txt - 5042\n",
      "/datashare/APAS/transcriptions_tools_left_new/P025_balloon2.txt - 4349\n",
      "/datashare/APAS/transcriptions_tools_left_new/P025_tissue1.txt - 6463\n",
      "/datashare/APAS/transcriptions_tools_left_new/P025_tissue2.txt - 4908\n",
      "/datashare/APAS/transcriptions_tools_left_new/P026_balloon1.txt - 9764\n",
      "/datashare/APAS/transcriptions_tools_left_new/P026_balloon2.txt - 7962\n",
      "/datashare/APAS/transcriptions_tools_left_new/P026_tissue1.txt - 14897\n",
      "/datashare/APAS/transcriptions_tools_left_new/P026_tissue2.txt - 7845\n",
      "/datashare/APAS/transcriptions_tools_left_new/P027_balloon1.txt - 5442\n",
      "/datashare/APAS/transcriptions_tools_left_new/P027_balloon2.txt - 4681\n",
      "/datashare/APAS/transcriptions_tools_left_new/P027_tissue1.txt - 13172\n",
      "/datashare/APAS/transcriptions_tools_left_new/P027_tissue2.txt - 7352\n",
      "/datashare/APAS/transcriptions_tools_left_new/P028_balloon1.txt - 6546\n",
      "/datashare/APAS/transcriptions_tools_left_new/P028_balloon2.txt - 5337\n",
      "/datashare/APAS/transcriptions_tools_left_new/P028_tissue1.txt - 6961\n",
      "/datashare/APAS/transcriptions_tools_left_new/P028_tissue2.txt - 6141\n",
      "/datashare/APAS/transcriptions_tools_left_new/P029_balloon1.txt - 9181\n",
      "/datashare/APAS/transcriptions_tools_left_new/P029_balloon2.txt - 6891\n",
      "/datashare/APAS/transcriptions_tools_left_new/P029_tissue1.txt - 10057\n",
      "/datashare/APAS/transcriptions_tools_left_new/P029_tissue2.txt - 9110\n",
      "/datashare/APAS/transcriptions_tools_left_new/P030_balloon1.txt - 7121\n",
      "/datashare/APAS/transcriptions_tools_left_new/P030_balloon2.txt - 6981\n",
      "/datashare/APAS/transcriptions_tools_left_new/P030_tissue1.txt - 9225\n",
      "/datashare/APAS/transcriptions_tools_left_new/P030_tissue2.txt - 11818\n",
      "/datashare/APAS/transcriptions_tools_left_new/P031_balloon1.txt - 5444\n",
      "/datashare/APAS/transcriptions_tools_left_new/P031_balloon2.txt - 5211\n",
      "/datashare/APAS/transcriptions_tools_left_new/P031_tissue1.txt - 7662\n",
      "/datashare/APAS/transcriptions_tools_left_new/P031_tissue2.txt - 6053\n",
      "/datashare/APAS/transcriptions_tools_left_new/P032_balloon1.txt - 5200\n",
      "/datashare/APAS/transcriptions_tools_left_new/P032_balloon2.txt - 4353\n",
      "/datashare/APAS/transcriptions_tools_left_new/P032_tissue1.txt - 6149\n",
      "/datashare/APAS/transcriptions_tools_left_new/P032_tissue2.txt - 6915\n",
      "/datashare/APAS/transcriptions_tools_left_new/P033_balloon1.txt - 6392\n",
      "/datashare/APAS/transcriptions_tools_left_new/P033_balloon2.txt - 6131\n",
      "/datashare/APAS/transcriptions_tools_left_new/P033_tissue1.txt - 9164\n",
      "/datashare/APAS/transcriptions_tools_left_new/P033_tissue2.txt - 8130\n",
      "/datashare/APAS/transcriptions_tools_left_new/P034_balloon1.txt - 4401\n",
      "/datashare/APAS/transcriptions_tools_left_new/P034_balloon2.txt - 4083\n",
      "/datashare/APAS/transcriptions_tools_left_new/P034_tissue1.txt - 6021\n",
      "/datashare/APAS/transcriptions_tools_left_new/P034_tissue2.txt - 5997\n",
      "/datashare/APAS/transcriptions_tools_left_new/P035_balloon1.txt - 3604\n",
      "/datashare/APAS/transcriptions_tools_left_new/P035_balloon2.txt - 3146\n",
      "/datashare/APAS/transcriptions_tools_left_new/P035_tissue1.txt - 4998\n",
      "/datashare/APAS/transcriptions_tools_left_new/P035_tissue2.txt - 5226\n",
      "/datashare/APAS/transcriptions_tools_left_new/P036_balloon1.txt - 5416\n",
      "/datashare/APAS/transcriptions_tools_left_new/P036_balloon2.txt - 4681\n",
      "/datashare/APAS/transcriptions_tools_left_new/P036_tissue1.txt - 6892\n",
      "/datashare/APAS/transcriptions_tools_left_new/P036_tissue2.txt - 6470\n",
      "/datashare/APAS/transcriptions_tools_left_new/P037_balloon1.txt - 4447\n",
      "/datashare/APAS/transcriptions_tools_left_new/P037_balloon2.txt - 4004\n",
      "/datashare/APAS/transcriptions_tools_left_new/P037_tissue1.txt - 7384\n",
      "/datashare/APAS/transcriptions_tools_left_new/P037_tissue2.txt - 5519\n",
      "/datashare/APAS/transcriptions_tools_left_new/P038_balloon1.txt - 3964\n",
      "/datashare/APAS/transcriptions_tools_left_new/P038_balloon2.txt - 3977\n",
      "/datashare/APAS/transcriptions_tools_left_new/P038_tissue1.txt - 5559\n",
      "/datashare/APAS/transcriptions_tools_left_new/P038_tissue2.txt - 7418\n",
      "/datashare/APAS/transcriptions_tools_left_new/P039_balloon1.txt - 3500\n",
      "/datashare/APAS/transcriptions_tools_left_new/P039_tissue1.txt - 4555\n",
      "/datashare/APAS/transcriptions_tools_left_new/P039_tissue2.txt - 3875\n",
      "/datashare/APAS/transcriptions_tools_left_new/P040_balloon1.txt - 2697\n",
      "/datashare/APAS/transcriptions_tools_left_new/P040_balloon2.txt - 3111\n",
      "/datashare/APAS/transcriptions_tools_left_new/P040_tissue1.txt - 4636\n",
      "/datashare/APAS/transcriptions_tools_left_new/P040_tissue2.txt - 3901\n"
     ]
    }
   ],
   "source": [
    "for i, (t_left, t_right) in enumerate(zip(tools_list['left'], tools_list['right'])):\n",
    "    print(f'{t_left[1]} - {len(t_left[0])}')"
   ]
  },
  {
   "cell_type": "markdown",
   "metadata": {},
   "source": [
    "### Tools counts for video:"
   ]
  },
  {
   "cell_type": "code",
   "execution_count": 11,
   "metadata": {},
   "outputs": [],
   "source": [
    "tools_stats = {}\n",
    "for hand in tools_list:\n",
    "    tools_stats_list = []\n",
    "    for tools_tup in tools_list[hand]:\n",
    "        unique, counts = np.unique(tools_tup[0], return_counts=True)\n",
    "        tools_counts = dict(zip(unique, counts))\n",
    "        tools_stats_list.append(tools_counts)\n",
    "    tools_stats[hand] = tools_stats_list"
   ]
  },
  {
   "cell_type": "code",
   "execution_count": 12,
   "metadata": {},
   "outputs": [
    {
     "data": {
      "text/plain": [
       "{'T0': 2821, 'T1': 587, 'T2': 1185}"
      ]
     },
     "execution_count": 12,
     "metadata": {},
     "output_type": "execute_result"
    }
   ],
   "source": [
    "# example:\n",
    "tools_stats['left'][6]"
   ]
  },
  {
   "cell_type": "code",
   "execution_count": 13,
   "metadata": {},
   "outputs": [],
   "source": [
    "# sum over all videos:\n",
    "full_tools_stats = {}\n",
    "for hand in tools_stats:\n",
    "    full_stats_dict = {\n",
    "        'T0': 0,\n",
    "        'T1': 0,\n",
    "        'T2': 0,\n",
    "        'T3': 0,\n",
    "    }\n",
    "    for stats in tools_stats[hand]:\n",
    "        for tool in stats:\n",
    "            full_stats_dict[tool] += stats[tool]\n",
    "\n",
    "    full_tools_stats[hand] = full_stats_dict"
   ]
  },
  {
   "cell_type": "code",
   "execution_count": 14,
   "metadata": {},
   "outputs": [
    {
     "data": {
      "text/plain": [
       "{'left': {'T0': 426411, 'T1': 30930, 'T2': 159879, 'T3': 3203},\n",
       " 'right': {'T0': 64430, 'T1': 495251, 'T2': 6649, 'T3': 54093}}"
      ]
     },
     "execution_count": 14,
     "metadata": {},
     "output_type": "execute_result"
    }
   ],
   "source": [
    "full_tools_stats"
   ]
  },
  {
   "cell_type": "code",
   "execution_count": 15,
   "metadata": {},
   "outputs": [],
   "source": [
    "tools_percentage = {}\n",
    "for hand in full_tools_stats:\n",
    "    tools_hand_percentage = {}\n",
    "    total_frames = 0\n",
    "    for tool, appearances in full_tools_stats[hand].items():\n",
    "        total_frames += appearances\n",
    "    for tool, appearances in full_tools_stats[hand].items():\n",
    "        tools_hand_percentage[tool] = appearances / total_frames\n",
    "    tools_percentage[hand] = tools_hand_percentage"
   ]
  },
  {
   "cell_type": "code",
   "execution_count": 16,
   "metadata": {},
   "outputs": [
    {
     "name": "stdout",
     "output_type": "stream",
     "text": [
      "620423 620423\n"
     ]
    }
   ],
   "source": [
    "full_tools = {}\n",
    "for hand in full_tools_stats:\n",
    "    hand_full_tools = []\n",
    "    for tool,counts in full_tools_stats[hand].items():\n",
    "        hand_full_tools += [tool] * counts\n",
    "    full_tools[hand] = hand_full_tools\n",
    "print(len(full_tools['right']), len(full_tools['left']))\n",
    "full_tools = pd.DataFrame(full_tools)"
   ]
  },
  {
   "cell_type": "code",
   "execution_count": 17,
   "metadata": {},
   "outputs": [
    {
     "data": {
      "text/html": [
       "<div>\n",
       "<style scoped>\n",
       "    .dataframe tbody tr th:only-of-type {\n",
       "        vertical-align: middle;\n",
       "    }\n",
       "\n",
       "    .dataframe tbody tr th {\n",
       "        vertical-align: top;\n",
       "    }\n",
       "\n",
       "    .dataframe thead th {\n",
       "        text-align: right;\n",
       "    }\n",
       "</style>\n",
       "<table border=\"1\" class=\"dataframe\">\n",
       "  <thead>\n",
       "    <tr style=\"text-align: right;\">\n",
       "      <th></th>\n",
       "      <th>left</th>\n",
       "      <th>right</th>\n",
       "    </tr>\n",
       "  </thead>\n",
       "  <tbody>\n",
       "    <tr>\n",
       "      <th>0</th>\n",
       "      <td>T0</td>\n",
       "      <td>T0</td>\n",
       "    </tr>\n",
       "    <tr>\n",
       "      <th>1</th>\n",
       "      <td>T0</td>\n",
       "      <td>T0</td>\n",
       "    </tr>\n",
       "    <tr>\n",
       "      <th>2</th>\n",
       "      <td>T0</td>\n",
       "      <td>T0</td>\n",
       "    </tr>\n",
       "    <tr>\n",
       "      <th>3</th>\n",
       "      <td>T0</td>\n",
       "      <td>T0</td>\n",
       "    </tr>\n",
       "    <tr>\n",
       "      <th>4</th>\n",
       "      <td>T0</td>\n",
       "      <td>T0</td>\n",
       "    </tr>\n",
       "    <tr>\n",
       "      <th>...</th>\n",
       "      <td>...</td>\n",
       "      <td>...</td>\n",
       "    </tr>\n",
       "    <tr>\n",
       "      <th>620418</th>\n",
       "      <td>T3</td>\n",
       "      <td>T3</td>\n",
       "    </tr>\n",
       "    <tr>\n",
       "      <th>620419</th>\n",
       "      <td>T3</td>\n",
       "      <td>T3</td>\n",
       "    </tr>\n",
       "    <tr>\n",
       "      <th>620420</th>\n",
       "      <td>T3</td>\n",
       "      <td>T3</td>\n",
       "    </tr>\n",
       "    <tr>\n",
       "      <th>620421</th>\n",
       "      <td>T3</td>\n",
       "      <td>T3</td>\n",
       "    </tr>\n",
       "    <tr>\n",
       "      <th>620422</th>\n",
       "      <td>T3</td>\n",
       "      <td>T3</td>\n",
       "    </tr>\n",
       "  </tbody>\n",
       "</table>\n",
       "<p>620423 rows × 2 columns</p>\n",
       "</div>"
      ],
      "text/plain": [
       "       left right\n",
       "0        T0    T0\n",
       "1        T0    T0\n",
       "2        T0    T0\n",
       "3        T0    T0\n",
       "4        T0    T0\n",
       "...     ...   ...\n",
       "620418   T3    T3\n",
       "620419   T3    T3\n",
       "620420   T3    T3\n",
       "620421   T3    T3\n",
       "620422   T3    T3\n",
       "\n",
       "[620423 rows x 2 columns]"
      ]
     },
     "execution_count": 17,
     "metadata": {},
     "output_type": "execute_result"
    }
   ],
   "source": [
    "full_tools"
   ]
  },
  {
   "cell_type": "code",
   "execution_count": 18,
   "metadata": {},
   "outputs": [],
   "source": [
    "full_tools_hand_separated = []\n",
    "for i in range(len(full_tools)):\n",
    "    row = full_tools.iloc[i]\n",
    "    left_tool = row['left']\n",
    "    right_tool = row['right']\n",
    "    full_tools_hand_separated.append([left_tool,'Left'])\n",
    "    full_tools_hand_separated.append([right_tool,'Right'])"
   ]
  },
  {
   "cell_type": "code",
   "execution_count": 19,
   "metadata": {},
   "outputs": [
    {
     "data": {
      "text/plain": [
       "{'T0': 0.10384850335980451,\n",
       " 'T1': 0.7982473248090416,\n",
       " 'T2': 0.010716881869305297,\n",
       " 'T3': 0.08718728996184862}"
      ]
     },
     "execution_count": 19,
     "metadata": {},
     "output_type": "execute_result"
    }
   ],
   "source": [
    "tools_percentage['right']\n"
   ]
  },
  {
   "cell_type": "code",
   "execution_count": 20,
   "metadata": {},
   "outputs": [],
   "source": [
    "full_tools_hand_separated_df = pd.DataFrame(full_tools_hand_separated, columns=['Tool','Hand'])"
   ]
  },
  {
   "cell_type": "code",
   "execution_count": 21,
   "metadata": {},
   "outputs": [
    {
     "data": {
      "text/html": [
       "<div>\n",
       "<style scoped>\n",
       "    .dataframe tbody tr th:only-of-type {\n",
       "        vertical-align: middle;\n",
       "    }\n",
       "\n",
       "    .dataframe tbody tr th {\n",
       "        vertical-align: top;\n",
       "    }\n",
       "\n",
       "    .dataframe thead th {\n",
       "        text-align: right;\n",
       "    }\n",
       "</style>\n",
       "<table border=\"1\" class=\"dataframe\">\n",
       "  <thead>\n",
       "    <tr style=\"text-align: right;\">\n",
       "      <th></th>\n",
       "      <th>Tool</th>\n",
       "      <th>Hand</th>\n",
       "    </tr>\n",
       "  </thead>\n",
       "  <tbody>\n",
       "    <tr>\n",
       "      <th>0</th>\n",
       "      <td>T0</td>\n",
       "      <td>Left</td>\n",
       "    </tr>\n",
       "    <tr>\n",
       "      <th>1</th>\n",
       "      <td>T0</td>\n",
       "      <td>Right</td>\n",
       "    </tr>\n",
       "    <tr>\n",
       "      <th>2</th>\n",
       "      <td>T0</td>\n",
       "      <td>Left</td>\n",
       "    </tr>\n",
       "    <tr>\n",
       "      <th>3</th>\n",
       "      <td>T0</td>\n",
       "      <td>Right</td>\n",
       "    </tr>\n",
       "    <tr>\n",
       "      <th>4</th>\n",
       "      <td>T0</td>\n",
       "      <td>Left</td>\n",
       "    </tr>\n",
       "    <tr>\n",
       "      <th>...</th>\n",
       "      <td>...</td>\n",
       "      <td>...</td>\n",
       "    </tr>\n",
       "    <tr>\n",
       "      <th>1240841</th>\n",
       "      <td>T3</td>\n",
       "      <td>Right</td>\n",
       "    </tr>\n",
       "    <tr>\n",
       "      <th>1240842</th>\n",
       "      <td>T3</td>\n",
       "      <td>Left</td>\n",
       "    </tr>\n",
       "    <tr>\n",
       "      <th>1240843</th>\n",
       "      <td>T3</td>\n",
       "      <td>Right</td>\n",
       "    </tr>\n",
       "    <tr>\n",
       "      <th>1240844</th>\n",
       "      <td>T3</td>\n",
       "      <td>Left</td>\n",
       "    </tr>\n",
       "    <tr>\n",
       "      <th>1240845</th>\n",
       "      <td>T3</td>\n",
       "      <td>Right</td>\n",
       "    </tr>\n",
       "  </tbody>\n",
       "</table>\n",
       "<p>1240846 rows × 2 columns</p>\n",
       "</div>"
      ],
      "text/plain": [
       "        Tool   Hand\n",
       "0         T0   Left\n",
       "1         T0  Right\n",
       "2         T0   Left\n",
       "3         T0  Right\n",
       "4         T0   Left\n",
       "...      ...    ...\n",
       "1240841   T3  Right\n",
       "1240842   T3   Left\n",
       "1240843   T3  Right\n",
       "1240844   T3   Left\n",
       "1240845   T3  Right\n",
       "\n",
       "[1240846 rows x 2 columns]"
      ]
     },
     "execution_count": 21,
     "metadata": {},
     "output_type": "execute_result"
    }
   ],
   "source": [
    "full_tools_hand_separated_df"
   ]
  },
  {
   "cell_type": "code",
   "execution_count": 27,
   "metadata": {},
   "outputs": [
    {
     "name": "stdout",
     "output_type": "stream",
     "text": [
      "left:\n",
      "   - T0: 68.73%\n",
      "   - T1: 4.99%\n",
      "   - T2: 25.77%\n",
      "   - T3: 0.52%\n",
      "right:\n",
      "   - T0: 10.38%\n",
      "   - T1: 79.82%\n",
      "   - T2: 1.07%\n",
      "   - T3: 8.72%\n"
     ]
    },
    {
     "data": {
      "image/png": "[encoded data removed]",
      "text/plain": [
       "<Figure size 720x432 with 1 Axes>"
      ]
     },
     "metadata": {
      "needs_background": "light"
     },
     "output_type": "display_data"
    }
   ],
   "source": [
    "plt.rcParams.update({'font.size': 16})\n",
    "plt.figure(figsize=(10,6))\n",
    "plt.title('Tools Frame-Appearance Histogram')\n",
    "sns.histplot(data=full_tools_hand_separated_df, x='Tool', hue='Hand', multiple='dodge', shrink=0.8, color=['b','g'])\n",
    "for hand in tools_percentage:\n",
    "    print(f'{hand}:')\n",
    "    for tool, per in tools_percentage[hand].items():\n",
    "        print(f'   - {tool}: {round(per*100,2)}%')\n",
    "plt.savefig('Tools_Frame-Appearance_Histogram.png')"
   ]
  },
  {
   "cell_type": "code",
   "execution_count": null,
   "metadata": {},
   "outputs": [],
   "source": []
  }
 ],
 "metadata": {
  "interpreter": {
   "hash": "8505bd93e15232b680218bd613f68dd2d0ec76b40a79f48f6cb2b19121cd32c4"
  },
  "kernelspec": {
   "display_name": "Python 3.6.12 64-bit ('azureml_py36_pytorch': conda)",
   "language": "python",
   "name": "python3"
  },
  "language_info": {
   "codemirror_mode": {
    "name": "ipython",
    "version": 3
   },
   "file_extension": ".py",
   "mimetype": "text/x-python",
   "name": "python",
   "nbconvert_exporter": "python",
   "pygments_lexer": "ipython3",
   "version": "3.6.12"
  },
  "orig_nbformat": 4
 },
 "nbformat": 4,
 "nbformat_minor": 2
}
