{
 "cells": [
  {
   "cell_type": "code",
   "execution_count": 1,
   "metadata": {},
   "outputs": [],
   "source": [
    "import numpy as np\n",
    "import matplotlib.pyplot as plt\n",
    "from matplotlib.lines import Line2D"
   ]
  },
  {
   "cell_type": "code",
   "execution_count": 2,
   "metadata": {},
   "outputs": [],
   "source": [
    "# gt_path_left = '/datashare/APAS/transcriptions_tools_left_new/P018_tissue2.txt'\n",
    "# gt_path_right = '/datashare/APAS/transcriptions_tools_right_new/P018_tissue2.txt'\n",
    "# pred_path = '/home/student/Adams/shell_code_surgical_data_science/ToolsPredictions/P018_tissue2.npy'\n",
    "\n",
    "gesture_gt_path = '/datashare/APAS/transcriptions_gestures/P016_balloon2.txt'\n",
    "pred_path = '/home/student/Adams/shell_code_surgical_data_science/P016_balloon2_model_predictions.npy'"
   ]
  },
  {
   "cell_type": "code",
   "execution_count": 49,
   "metadata": {},
   "outputs": [],
   "source": [
    "tool_colors = ['crimson','c','g','m','gold','b']"
   ]
  },
  {
   "cell_type": "code",
   "execution_count": 50,
   "metadata": {},
   "outputs": [],
   "source": [
    "def parse_gt(path):\n",
    "    file_ptr = open(path, 'r')\n",
    "    gt_source = file_ptr.read().split('\\n')[:-1]\n",
    "    content =[]\n",
    "    for line in gt_source:\n",
    "        info = line.split()\n",
    "        line_content = (int(info[2][1]), round((int(info[1])-int(info[0]) + 1)/6))\n",
    "        content.append(line_content)\n",
    "    return content"
   ]
  },
  {
   "cell_type": "code",
   "execution_count": 51,
   "metadata": {},
   "outputs": [],
   "source": [
    "# content_left = parse_gt(gt_path_left)\n",
    "# content_right = parse_gt(gt_path_right)\n",
    "content_gesture = parse_gt(gesture_gt_path)"
   ]
  },
  {
   "cell_type": "code",
   "execution_count": 52,
   "metadata": {},
   "outputs": [],
   "source": [
    "def preds2visformat(preds):\n",
    "    res = []\n",
    "    count = 0 \n",
    "    last_value = None\n",
    "    for pred in preds:\n",
    "        if last_value is None:\n",
    "            last_value = pred\n",
    "            count = 1\n",
    "        elif last_value == pred:\n",
    "            count += 1\n",
    "        else:\n",
    "            res.append((last_value, count))\n",
    "            count = 1\n",
    "            last_value = pred\n",
    "    res.append((last_value, count))\n",
    "    return res"
   ]
  },
  {
   "cell_type": "code",
   "execution_count": 53,
   "metadata": {},
   "outputs": [],
   "source": [
    "preds = np.load(pred_path)\n",
    "pred_content_gesture = preds2visformat(preds)\n"
   ]
  },
  {
   "cell_type": "code",
   "execution_count": 54,
   "metadata": {},
   "outputs": [],
   "source": [
    "# preds = np.load(pred_path)\n",
    "# right_preds = np.argmax(preds[:,0,:], axis=1)\n",
    "# left_preds = np.argmax(preds[:,1,:], axis=1)\n",
    "# pred_content_right = preds2visformat(right_preds)\n",
    "# pred_content_left = preds2visformat(left_preds)"
   ]
  },
  {
   "cell_type": "code",
   "execution_count": 55,
   "metadata": {},
   "outputs": [],
   "source": [
    "category_names = ['G0', 'G1',\n",
    "                  'G2', 'G3', 'G4', 'G5']\n",
    "results = {\n",
    "    'Ground Truth': content_gesture,\n",
    "    'Predictions': pred_content_gesture,\n",
    "}"
   ]
  },
  {
   "cell_type": "code",
   "execution_count": 56,
   "metadata": {},
   "outputs": [],
   "source": [
    "# category_names = ['T0', 'T1',\n",
    "#                   'T2', 'T3', 'T4']\n",
    "# results = {\n",
    "#     'Ground Truth (left)': content_left,\n",
    "#     'Predictions (left)': pred_content_left,\n",
    "#     'Ground Truth (right)': content_right,\n",
    "#     'Predictions (right)': pred_content_right,\n",
    "# }"
   ]
  },
  {
   "cell_type": "code",
   "execution_count": 84,
   "metadata": {},
   "outputs": [],
   "source": [
    "def survey(results, category_names):\n",
    "    \"\"\"\n",
    "    Shows bar plots in order to compare sequences.\n",
    "    Parameters\n",
    "    ----------\n",
    "    results : dict\n",
    "        A mapping from question labels to a list of answers per category.\n",
    "        It is assumed all lists contain the same number of entries and that\n",
    "        it matches the length of *category_names*.\n",
    "    category_names : list of str\n",
    "        The category labels.\n",
    "    \"\"\"\n",
    "    labels = list(results.keys())\n",
    "    plt.rcParams.update({'font.size': 28})\n",
    "    fig, ax = plt.subplots(figsize=(24,5))\n",
    "    ax.spines['left'].set_color('white')\n",
    "    ax.spines['right'].set_color('white')\n",
    "    ax.spines['top'].set_color('white')\n",
    "    ax.spines['bottom'].set_color('white')\n",
    "    ax.invert_yaxis()\n",
    "    ax.xaxis.set_visible(False)\n",
    "    \n",
    "\n",
    "    max_width = 0\n",
    "    for i, values in enumerate(results.values()):\n",
    "        widths = np.array([data[1] for data in values])\n",
    "        widths_cum = np.cumsum(widths)\n",
    "        starts = widths_cum - widths\n",
    "        colnames = np.array(values)[:,0]\n",
    "        colors = [tool_colors[colname] for colname in colnames]\n",
    "        ax.barh(y=labels[i],width=widths, left=starts, height=0.5,\n",
    "                    label=colnames, color=colors)\n",
    "        max_width = max(max_width, np.sum(widths))\n",
    "\n",
    "    ax.set_xlim(0, max_width)\n",
    "    legend_elements = [Line2D([0], [0], color=tool_colors[idx], lw=4, label=cat_name) for idx, cat_name in enumerate(category_names)]\n",
    "\n",
    "    ax.legend(handles=legend_elements, ncol=len(category_names), bbox_to_anchor=(0, 1),\n",
    "              loc='lower left', fontsize='small')\n",
    "    \n",
    "    plt.savefig('P016_balloon2_bar_plot.png')\n",
    "\n",
    "    return fig, ax"
   ]
  },
  {
   "cell_type": "code",
   "execution_count": 85,
   "metadata": {},
   "outputs": [
    {
     "data": {
      "image/png": "[encoded data removed]",
      "text/plain": [
       "<Figure size 1728x360 with 1 Axes>"
      ]
     },
     "metadata": {
      "needs_background": "light"
     },
     "output_type": "display_data"
    }
   ],
   "source": [
    "survey(results, category_names)\n",
    "plt.show()\n"
   ]
  },
  {
   "cell_type": "code",
   "execution_count": null,
   "metadata": {},
   "outputs": [],
   "source": []
  }
 ],
 "metadata": {
  "interpreter": {
   "hash": "8505bd93e15232b680218bd613f68dd2d0ec76b40a79f48f6cb2b19121cd32c4"
  },
  "kernelspec": {
   "display_name": "Python 3.6.12 ('azureml_py36_pytorch')",
   "language": "python",
   "name": "python3"
  },
  "language_info": {
   "codemirror_mode": {
    "name": "ipython",
    "version": 3
   },
   "file_extension": ".py",
   "mimetype": "text/x-python",
   "name": "python",
   "nbconvert_exporter": "python",
   "pygments_lexer": "ipython3",
   "version": "3.6.12"
  },
  "orig_nbformat": 4
 },
 "nbformat": 4,
 "nbformat_minor": 2
}
